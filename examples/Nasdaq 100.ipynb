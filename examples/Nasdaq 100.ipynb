{
 "metadata": {
  "name": "",
  "signature": "sha256:decdb535b45c85a1cd5392ff03226d5fd5e516c090b947fcae7d9e9c6de9446f"
 },
 "nbformat": 3,
 "nbformat_minor": 0,
 "worksheets": [
  {
   "cells": [
    {
     "cell_type": "code",
     "collapsed": false,
     "input": [
      "from __future__ import print_function # For py 2.7 compat\n",
      "\n",
      "import dc_dashboard\n",
      "from dc_dashboard import *\n",
      "import pandas as pd"
     ],
     "language": "python",
     "metadata": {},
     "outputs": []
    },
    {
     "cell_type": "code",
     "collapsed": false,
     "input": [
      "data = pd.read_csv(\"http://dc-js.github.io/dc.js/ndx.csv\")"
     ],
     "language": "python",
     "metadata": {},
     "outputs": []
    },
    {
     "cell_type": "markdown",
     "metadata": {},
     "source": [
      "Here we create a simple dashboard we use python to add some fields, but there are some fields which are easier to compute client side, so we use the preproc function."
     ]
    },
    {
     "cell_type": "code",
     "collapsed": false,
     "input": [
      "import time\n",
      "data[\"gl\"] = [\"Gain\" if x > 0 else \"Loss\" for x in (data.close-data.open)]\n",
      "data[\"year\"] = [int(x.split('/')[2]) for x in data.date]\n",
      "data[\"quarter\"] = [(int(x.split('/')[0])-1)/3+1 for x in data.date]\n",
      "data[\"TimeStamp\"] = [time.mktime(time.strptime(x, \"%m/%d/%Y\")) for x in data[\"date\"]]\n"
     ],
     "language": "python",
     "metadata": {},
     "outputs": []
    },
    {
     "cell_type": "code",
     "collapsed": false,
     "input": [
      "data.head()"
     ],
     "language": "python",
     "metadata": {},
     "outputs": []
    },
    {
     "cell_type": "code",
     "collapsed": false,
     "input": [
      "dashboard = Dashboard(\n",
      "    Backend.DF_Backend(data),\n",
      "    [\n",
      "        Dimension(\"gl\"),\n",
      "        Dimension(\"quarter\"),\n",
      "        Dimension(\"year\"),\n",
      "        Dimension(\"open\",\"close\").add_group(\"hundreds\", \n",
      "                                            Group(\"function(d){return Math.floor(d[0]/100);}\").reduce_sum(\"close\")),\n",
      "        Dimension(\"TimeStamp\").add_group(\"close\", Group().reduce_sum(\"close\"))\n",
      "    ],\n",
      "    [\n",
      "        Layer(200),\n",
      "        Plot(\"pie\").data_source(\"gl\").title(\"Gain or Loss\"),\n",
      "        Plot(\"pie\").data_source(\"quarter\").title(\"Quarter\"),\n",
      "        Plot(\"bar\").data_source(\"year\").title(\"Year\").width(400),\n",
      "        Layer(250),\n",
      "        Plot(\"line\").data_source(\"TimeStamp\",\"close\").title(\"Close\").width(800)\n",
      "    ]\n",
      ")\n",
      "dashboard.show()"
     ],
     "language": "python",
     "metadata": {},
     "outputs": []
    }
   ],
   "metadata": {}
  }
 ]
}