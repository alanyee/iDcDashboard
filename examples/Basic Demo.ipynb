{
 "metadata": {
  "name": "",
  "signature": "sha256:6203ca04f0f99013377f895945e9b6a0c942826b0195b84aed446bac866623e1"
 },
 "nbformat": 3,
 "nbformat_minor": 0,
 "worksheets": [
  {
   "cells": [
    {
     "cell_type": "code",
     "collapsed": false,
     "input": [
      "import sys\n",
      "sys.path.append('../')\n",
      "import dc_dashboard\n",
      "from dc_dashboard import *"
     ],
     "language": "python",
     "metadata": {},
     "outputs": []
    },
    {
     "cell_type": "code",
     "collapsed": false,
     "input": [
      "import numpy as np\n",
      "import pandas as pd\n",
      "data = np.random.randint(size=(1000, 5), low=100, high=900)\n",
      "df = pd.DataFrame(data)\n",
      "df.columns=[\"field_\"+str(x) for x in df.columns]"
     ],
     "language": "python",
     "metadata": {},
     "outputs": []
    },
    {
     "cell_type": "code",
     "collapsed": false,
     "input": [
      "dashboard = Dashboard(Backend.DF_Backend(df), \n",
      "    [\n",
      "        Dimension(\"field_1\",\"field_2\"),\n",
      "        Dimension(\"field_4\",\"field_2\"),\n",
      "        Dimension(\"field_1\",\"field_3\"),\n",
      "        Dimension(\"field_4\",\"field_3\"),\n",
      "    ],\n",
      "    [\n",
      "        Layer(400),\n",
      "        Plot(\"scatter\").data_source(\"field_1_field_2\"),\n",
      "        Plot(\"scatter\").data_source(\"field_4_field_2\"),\n",
      "        Layer(400),\n",
      "        Plot(\"scatter\").data_source(\"field_1_field_3\"),\n",
      "        Plot(\"scatter\").data_source(\"field_4_field_3\")\n",
      "    ]\n",
      ")\n",
      "dashboard.show()"
     ],
     "language": "python",
     "metadata": {},
     "outputs": []
    },
    {
     "cell_type": "code",
     "collapsed": false,
     "input": [],
     "language": "python",
     "metadata": {},
     "outputs": []
    },
    {
     "cell_type": "code",
     "collapsed": false,
     "input": [],
     "language": "python",
     "metadata": {},
     "outputs": []
    },
    {
     "cell_type": "code",
     "collapsed": false,
     "input": [],
     "language": "python",
     "metadata": {},
     "outputs": []
    }
   ],
   "metadata": {}
  }
 ]
}