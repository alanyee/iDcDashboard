{
 "metadata": {
  "name": "",
  "signature": "sha256:8bbf91c1d6f998acc6b28fdaf1f0df5f2a31894f82b74f01339d890f627b762d"
 },
 "nbformat": 3,
 "nbformat_minor": 0,
 "worksheets": [
  {
   "cells": [
    {
     "cell_type": "code",
     "collapsed": false,
     "input": [
      "import dc_dashboard\n",
      "from dc_dashboard import *"
     ],
     "language": "python",
     "metadata": {},
     "outputs": []
    },
    {
     "cell_type": "code",
     "collapsed": false,
     "input": [
      "import numpy as np\n",
      "import pandas as pd\n",
      "data = np.random.randint(size=(1000, 5), low=100, high=900)\n",
      "df = pd.DataFrame(data)\n",
      "df.columns=[\"field_\"+str(x) for x in df.columns]"
     ],
     "language": "python",
     "metadata": {},
     "outputs": []
    },
    {
     "cell_type": "code",
     "collapsed": false,
     "input": [
      "dashboard = Dashboard(Backend.DF_Backend(df), \n",
      "    [\n",
      "        Dimension(\"field_1\",\"field_2\"),\n",
      "        Dimension(\"field_4\",\"field_2\"),\n",
      "        Dimension(\"field_1\",\"field_3\"),\n",
      "        Dimension(\"field_4\",\"field_3\"),\n",
      "    ],\n",
      "    [\n",
      "        Layer(400),\n",
      "        Plot(\"scatter\").data_source(\"field_1_field_2\"),\n",
      "        Plot(\"scatter\").data_source(\"field_4_field_2\"),\n",
      "        Layer(400),\n",
      "        Plot(\"scatter\").data_source(\"field_1_field_3\"),\n",
      "        Plot(\"scatter\").data_source(\"field_4_field_3\")\n",
      "    ]\n",
      ")\n",
      "dashboard.show()"
     ],
     "language": "python",
     "metadata": {},
     "outputs": []
    },
    {
     "cell_type": "code",
     "collapsed": false,
     "input": [],
     "language": "python",
     "metadata": {},
     "outputs": []
    }
   ],
   "metadata": {}
  }
 ]
}