{
 "metadata": {
  "name": "",
  "signature": "sha256:99ffdda6d2b2c28f825d1aa12481142f77b2bb09c6420533b59fde6ec5fd7e95"
 },
 "nbformat": 3,
 "nbformat_minor": 0,
 "worksheets": [
  {
   "cells": [
    {
     "cell_type": "markdown",
     "metadata": {},
     "source": [
      "#Weather Analysis Using DC.js\n",
      "\n",
      "Here we want to analyze the weather dataset from NOAA.  Professor Freund has provided a sampled version of the data for initial analysis.  \n",
      "\n",
      "##Loading Data Into Pandas"
     ]
    },
    {
     "cell_type": "code",
     "collapsed": false,
     "input": [
      "%pylab inline\n",
      "import pandas as pd\n",
      "import numpy as np\n",
      "import sklearn as sk\n",
      "\n",
      "import re\n",
      "print 'pandas version: ',pd.__version__\n",
      "print 'numpy version:',np.__version__\n",
      "print 'sklearn version:',sk.__version__"
     ],
     "language": "python",
     "metadata": {},
     "outputs": []
    },
    {
     "cell_type": "code",
     "collapsed": false,
     "input": [
      "weather_file = \"/Users/dlisuk/Dropbox/UCSD/2014_FALL/DSE200_TA/DSE200/data/weather/SAMPLE_TMAX.csv\"\n",
      "stations_file = \"/Users/dlisuk/Dropbox/UCSD/2014_FALL/DSE200_TA/DSE200/data/weather/ghcnd-stations.txt\""
     ],
     "language": "python",
     "metadata": {},
     "outputs": []
    },
    {
     "cell_type": "code",
     "collapsed": false,
     "input": [
      "header=['station','measurement','year']+range(1,366)\n",
      "# D=pandas.DataFrame(columns=header)\n",
      "Data = pd.read_csv(weather_file,header=None,names=header)\n",
      "G=Data.ix[:,1:365]\n",
      "G[G<-400]=nan\n",
      "G[G>500]=nan\n",
      "G=G/10\n",
      "Data.ix[:,1:365]=G\n",
      "G=G.transpose()\n",
      "Data.head()"
     ],
     "language": "python",
     "metadata": {},
     "outputs": []
    },
    {
     "cell_type": "code",
     "collapsed": false,
     "input": [
      "# Make all lines be of length 90 to solve problem wilth read_fwf\n",
      "out=open('./ghcnd-stations_buffered.txt','w')\n",
      "for line in open(stations_file,'r').readlines():\n",
      "    line=line.rstrip()\n",
      "    string=line+' '*(90-len(line))+'\\n'\n",
      "    out.write(string)\n",
      "out.close()\n",
      "colspecs = [(0, 11), (11, 21), (21, 31), (31, 38),(38,41), (0,2)]\n",
      "stations = pd.read_fwf('./ghcnd-stations_buffered.txt', colspecs=colspecs, header=None, index_col=0,\n",
      "                       names=['latitude','longitude','elevation','state', 'country'])"
     ],
     "language": "python",
     "metadata": {},
     "outputs": []
    },
    {
     "cell_type": "code",
     "collapsed": false,
     "input": [
      "Djoined=Data.join(stations,on='station')\n",
      "Djoined = Djoined[Djoined.country == \"US\"]\n",
      "Djoined.country.value_counts()"
     ],
     "language": "python",
     "metadata": {},
     "outputs": []
    },
    {
     "cell_type": "code",
     "collapsed": false,
     "input": [
      "Djoined[\"station_prefix\"] = [x[0:2] for x in Djoined.station]"
     ],
     "language": "python",
     "metadata": {},
     "outputs": []
    },
    {
     "cell_type": "markdown",
     "metadata": {},
     "source": [
      "##Plotting Weather Data"
     ]
    },
    {
     "cell_type": "code",
     "collapsed": false,
     "input": [
      "from dc_dashboard import *"
     ],
     "language": "python",
     "metadata": {},
     "outputs": []
    },
    {
     "cell_type": "code",
     "collapsed": false,
     "input": [
      "Dmelt = pd.melt(Djoined, id_vars = filter(lambda x:not re.match(\"^\\d*$\",str(x)),Djoined.columns.tolist()), \n",
      "                 value_vars =  filter(lambda x:re.match(\"^\\d*$\",str(x)),Djoined.columns.tolist()),\n",
      "                 var_name = \"day\",\n",
      "                 value_name = \"temperature\")\n",
      "Dmelt.drop([\"country\"],axis=1,inplace=True)\n",
      "Dmelt=Dmelt[Dmelt.longitude < 0]\n",
      "Dmelt.shape"
     ],
     "language": "python",
     "metadata": {},
     "outputs": []
    },
    {
     "cell_type": "code",
     "collapsed": false,
     "input": [
      "backend = Sampling_DF_Backend(Dmelt)"
     ],
     "language": "python",
     "metadata": {},
     "outputs": []
    },
    {
     "cell_type": "code",
     "collapsed": false,
     "input": [
      "db = Dashboard(backend,\n",
      "    [\n",
      "        Dimension(\"longitude\",\"latitude\"),\n",
      "        Dimension(\"day\",\"temperature\",name_override=\"daytemp\"),\n",
      "        Dimension(\"temperature\",name_override=\"temp\").\n",
      "            add_group(\"rounded\",Group(\"function(d){return Math.round(d/5.)*5;}\").reduce_count()),\n",
      "        Dimension(\"year\"),\n",
      "        Dimension(\"state\")\n",
      "    ],\n",
      "    [\n",
      "        Layer(height = 400),\n",
      "        Plot(\"scatter\").data_source(\"longitude_latitude\").title(\"Map\").width(600),\n",
      "        Plot(\"pie\").data_source(\"state\").title(\"State\").width(200),\n",
      "        Layer(height = 200),\n",
      "        Plot(\"scatter\").data_source(\"daytemp\").title(\"Temperature by Day of Year\").width(800),\n",
      "        Layer(height = 200),\n",
      "        Plot(\"bar\").data_source(\"year\").title(\"Volume by Year\").width(400),\n",
      "        Plot(\"bar\").data_source(\"temp\",\"rounded\").title(\"Temperature Histgoram\").width(400)\n",
      "    ]\n",
      ")\n",
      "db.show()"
     ],
     "language": "python",
     "metadata": {},
     "outputs": []
    },
    {
     "cell_type": "code",
     "collapsed": false,
     "input": [
      "db._widget.layout\n"
     ],
     "language": "python",
     "metadata": {},
     "outputs": []
    },
    {
     "cell_type": "code",
     "collapsed": false,
     "input": [
      "df_filt = Dmelt\n",
      "for col,filts in filters:\n",
      "    if len(filts) == 0:\n",
      "        continue\n",
      "    screen = [False] * df_filt.shape[0]\n",
      "    print col\n",
      "    for filt in filts:\n",
      "        if type(filt) == list:\n",
      "            print \"range\", filt\n",
      "            screen = [s or (filt[0] <= x and x <= filt[1]) for s,x in zip(screen, df_filt[col])]\n",
      "        else:\n",
      "            print \"equals\", filt\n",
      "            equals.add(filt)\n",
      "    screen = [s or (x in equals) for s,x in zip(screen, df_filt[col])]\n",
      "    print sum(screen)\n",
      "    df_filt = df_filt[screen]\n"
     ],
     "language": "python",
     "metadata": {},
     "outputs": []
    },
    {
     "cell_type": "code",
     "collapsed": false,
     "input": [
      "Dmelt.station.value_counts().shape"
     ],
     "language": "python",
     "metadata": {},
     "outputs": []
    },
    {
     "cell_type": "code",
     "collapsed": false,
     "input": [
      "Djoined.shape"
     ],
     "language": "python",
     "metadata": {},
     "outputs": []
    },
    {
     "cell_type": "code",
     "collapsed": false,
     "input": [
      "?Dashboard"
     ],
     "language": "python",
     "metadata": {},
     "outputs": []
    },
    {
     "cell_type": "code",
     "collapsed": false,
     "input": [],
     "language": "python",
     "metadata": {},
     "outputs": []
    }
   ],
   "metadata": {}
  }
 ]
}