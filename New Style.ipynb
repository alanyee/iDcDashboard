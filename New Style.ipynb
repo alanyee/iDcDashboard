{
 "metadata": {
  "name": "",
  "signature": "sha256:180120e08664c3ab729b76d55a2146495480ccbe98747fc725402affeb3af4f2"
 },
 "nbformat": 3,
 "nbformat_minor": 0,
 "worksheets": [
  {
   "cells": [
    {
     "cell_type": "code",
     "collapsed": false,
     "input": [
      "from dc_dashboard.Dashboard import Dashboard, Backend\n",
      "import pandas as pd"
     ],
     "language": "python",
     "metadata": {},
     "outputs": []
    },
    {
     "cell_type": "code",
     "collapsed": false,
     "input": [
      "import numpy as np\n",
      "import pandas as pd\n",
      "data = np.random.randint(size=(100, 5), low=100, high=900)\n",
      "df = pd.DataFrame(data)\n",
      "df.columns=[\"field_\"+str(x) for x in df.columns]"
     ],
     "language": "python",
     "metadata": {},
     "outputs": []
    },
    {
     "cell_type": "code",
     "collapsed": false,
     "input": [
      "class DF_Backend(Backend):\n",
      "    def __init__(self,df):\n",
      "        self.df = df\n",
      "        \n",
      "    def register_dashboard(self, dashboard):\n",
      "        dashboard.set_data(self.df)"
     ],
     "language": "python",
     "metadata": {},
     "outputs": []
    },
    {
     "cell_type": "code",
     "collapsed": false,
     "input": [
      "db = Dashboard(\n",
      "    \"\"\"{\n",
      "        \"field_12\":{\"dimension\":\"(function(d){return [d.field_1, d.field_2];})\"},\n",
      "        \"field_13\":{\"dimension\":\"(function(d){return [d.field_1, d.field_3];})\"},\n",
      "        \"field_23\":{\"dimension\":\"(function(d){return [d.field_2, d.field_3];})\"},\n",
      "        \"field_14\":{\"dimension\":\"(function(d){return [d.field_1, d.field_4];})\"}\n",
      "    }\"\"\",\n",
      "    \"\"\"[\n",
      "        {\"type\":\"layer\", \"height\":250},\n",
      "        {\"type\":\"scatter\", \"data_source\":\"cf/field_12/\"},\n",
      "        {\"type\":\"scatter\", \"data_source\":\"cf/field_12/\"},\n",
      "        {\"type\":\"layer\", \"height\":250},\n",
      "        {\"type\":\"scatter\", \"data_source\":\"cf/field_12/\"},\n",
      "        {\"type\":\"scatter\", \"data_source\":\"cf/field_12/\"}\n",
      "    ]\"\"\",\n",
      "    DF_Backend(df)           \n",
      ")\n",
      "db.show()"
     ],
     "language": "python",
     "metadata": {},
     "outputs": []
    },
    {
     "cell_type": "code",
     "collapsed": false,
     "input": [],
     "language": "python",
     "metadata": {},
     "outputs": []
    }
   ],
   "metadata": {}
  }
 ]
}