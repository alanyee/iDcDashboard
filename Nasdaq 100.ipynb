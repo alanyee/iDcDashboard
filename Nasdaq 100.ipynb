{
 "metadata": {
  "name": "",
  "signature": "sha256:df4c4bc51848bce40c3c2b0ae1b64363eebf4ca036ffa169f628aea18b04f520"
 },
 "nbformat": 3,
 "nbformat_minor": 0,
 "worksheets": [
  {
   "cells": [
    {
     "cell_type": "code",
     "collapsed": false,
     "input": [
      "from __future__ import print_function # For py 2.7 compat\n",
      "\n",
      "from dc_dashboard.Dashboard import Dashboard\n",
      "import pandas as pd"
     ],
     "language": "python",
     "metadata": {},
     "outputs": [
      {
       "html": [
        "<style>    .document{\n",
        "        padding: 5px;\n",
        "        margin:  5px;\n",
        "        width: 100%;\n",
        "        clear:both;\n",
        "    }\n",
        "    .layer{\n",
        "        padding: 5px;\n",
        "        margin:  5px;\n",
        "        width: 100%;\n",
        "        clear:both;\n",
        "    }\n",
        "</style><link rel=\"stylesheet\" type=\"text/css\" href=\"http://cdnjs.cloudflare.com/ajax/libs/dc/2.0.0-alpha.2/dc.css\">"
       ],
       "metadata": {},
       "output_type": "display_data",
       "text": [
        "<IPython.core.display.HTML at 0x1082d7450>"
       ]
      },
      {
       "javascript": [
        "require(['//cdnjs.cloudflare.com/ajax/libs/crossfilter/1.3.11/crossfilter.min.js']);\n",
        "    require([\"//cdnjs.cloudflare.com/ajax/libs/d3/3.4.1/d3.min.js\",\n",
        "             \"//cdnjs.cloudflare.com/ajax/libs/dc/2.0.0-alpha.2/dc.min.js\",\n",
        "            \"widgets/js/widget\",\n",
        "            \"widgets/js/manager\"],\n",
        "            function(d3, dc, widget, WidgetManager){\n",
        "                var dashboard_id = 0;\n",
        "\n",
        "                var plot_funs = {};\n",
        "\n",
        "  plot_funs.line_chart =  {\n",
        "     render:function(target, conf, dim, group){\n",
        "         console.log(dim.bottom(1));\n",
        "         var min = dim.bottom(1);\n",
        "         var max = dim.top(1);\n",
        "         console.log(min);\n",
        "         console.log(max);\n",
        "         var plot = dc.lineChart(target, $(target).attr('render_group'));\n",
        "         plot\n",
        "             .dimension(dim).group(group)\n",
        "             .x(d3.scale.linear().domain([min,max]))\n",
        "             .xAxisLabel(conf.x).yAxisLabel(conf.y);\n",
        "         return plot;\n",
        "     },\n",
        "     make_dim:function(cf, conf){\n",
        "         var dim_f = function(d) { return  eval(\"d.\" + conf.x );};\n",
        "         return cf.dimension(dim_f);\n",
        "     },\n",
        "     make_group:function(dim, conf){\n",
        "         return dim.group(function(d){ return eval(\"d.\" + conf.y);});\n",
        "     },\n",
        "     proc_filter:function(filter, conf){\n",
        "         if(filter == null){\n",
        "             return [];\n",
        "         }else{\n",
        "             return [[conf.x, \"between\", filter]];\n",
        "         }\n",
        "     }\n",
        " };\n",
        "\n",
        "\n",
        " plot_funs.pie_chart =  {\n",
        "     render:function(target, conf, dim, group){\n",
        "         var plot = dc.pieChart(target, $(target).attr('render_group'));\n",
        "         plot\n",
        "             .dimension(dim).group(group)\n",
        "         return plot;\n",
        "     },\n",
        "     make_dim:function(cf, conf){\n",
        "         var dim_f = function(d) { return  eval(\"d.\" + conf.x );};\n",
        "         return cf.dimension(dim_f);\n",
        "     },\n",
        "     make_group:function(dim, conf){\n",
        "         return dim.group();\n",
        "     },\n",
        "     proc_filter:function(filter, conf){\n",
        "         if(filter == null){\n",
        "             return [];\n",
        "         }else{\n",
        "             return [[conf.x, \"in\", filter]];\n",
        "         }\n",
        "     }\n",
        " }\n",
        "\n",
        "plot_funs.scatter =  {\n",
        "    render:function(target, conf, dim, group){\n",
        "        //var min = eval(\"dim.bottom(1)[0].\" + conf.x);\n",
        "        //var max = eval(\"dim.top(1)[0].\" + conf.x);\n",
        "        var plot = dc.scatterPlot(target, $(target).attr('render_group'));\n",
        "        plot\n",
        "            .dimension(dim).group(group)\n",
        "            .x(d3.scale.linear()).elasticX(true)\n",
        "            .y(d3.scale.linear()).elasticY(true)\n",
        "            .xAxisLabel(conf.x).yAxisLabel(conf.y);\n",
        "        return plot;\n",
        "    },\n",
        "    make_dim:function(cf, conf){\n",
        "        var dim_f = function(d) { return  eval(\"[d.\" + conf.x +\" , d.\" + conf.y + \"]\");};\n",
        "        return cf.dimension(dim_f);\n",
        "    },\n",
        "    make_group:function(dim, conf){\n",
        "        return dim.group();\n",
        "    },\n",
        "    proc_filter:function(filter, conf){\n",
        "        if(filter == null){\n",
        "            return [];\n",
        "        }else{\n",
        "            return [[conf.x, \"between\", [filter[0][0], filter[1][0]]],[conf.y, \"between\", [filter[0][1], filter[1][1]]]];\n",
        "        }\n",
        "    }\n",
        "}\n",
        "\n",
        "\n",
        "                var DashboardView = IPython.DOMWidgetView.extend({\n",
        "                    render: function(){\n",
        "                        //Here we construct the data stores\n",
        "                        this.cf   = crossfilter([]);\n",
        "                        this.filters = {};\n",
        "                        this.dims    = [];\n",
        "                        this.charts  = [];\n",
        "                        this.render_group = 'dashboard_' + (dashboard_id++);\n",
        "                        this.set_layout();\n",
        "                        this.set_data();\n",
        "\n",
        "                        this.model.on('change:data', this.set_data, this);\n",
        "                        this.model.on('change:layout', this.set_layout, this);\n",
        "                },\n",
        "\n",
        "                set_data:function(){\n",
        "                    //First we remove old data from cross filter and add new data\n",
        "                    this.dims.forEach(function(dim){dim.filter(null);});\n",
        "                    this.cf.remove();\n",
        "                    //Now we refresh the filters applied to all dc charts\n",
        "                    this.charts.forEach(function(chart){\n",
        "                        var oldFilters = chart.filters();\n",
        "                        chart.filter(null);\n",
        "                        oldFilters.forEach(function(filter){\n",
        "                            chart.filter(filter);\n",
        "                        });\n",
        "                    });\n",
        "\n",
        "                    var df = $.parseJSON(this.model.get('data'));\n",
        "                    var data = eval(this.model.get('preproc'))(df);\n",
        "                    this.cf.add(data);\n",
        "                    dc.redrawAll();\n",
        "                },\n",
        "\n",
        "                set_layout:function(){\n",
        "                    //Clean up existing layout\n",
        "                    this.dims.forEach(function(dim){dim.dispose();});\n",
        "                    this.charts = [];\n",
        "                    var $root = this.$el;\n",
        "                    $root.empty();\n",
        "\n",
        "                    var layout = $.parseJSON(this.model.get('layout'));\n",
        "                    var this_obj = this;\n",
        "                    var $layer = null;\n",
        "                    var layer_h = null;\n",
        "\n",
        "                    for(var i in layout){\n",
        "                        var plot_conf = layout[i];\n",
        "                        if(plot_conf.type==\"layer\"){\n",
        "                            $layer = $('<div />').attr('class','layer').appendTo($root);\n",
        "                            layer_h = plot_conf.height;\n",
        "                        }else{\n",
        "                            var $plot_area = $('<div />')\n",
        "                                .attr('id', this_obj.render_group + \"_plot_\" + i)\n",
        "                                .attr('render_group', this_obj.render_group)\n",
        "                                .appendTo($layer);\n",
        "\n",
        "\n",
        "                            var plotting_obj = plot_funs[plot_conf.type];\n",
        "\n",
        "                            //Make cf objects\n",
        "                            var dim          = plotting_obj.make_dim(this_obj.cf, plot_conf);\n",
        "                            this.dims.push(dim);\n",
        "                            var group        = plotting_obj.make_group(dim, plot_conf);\n",
        "\n",
        "                            var plot         = plotting_obj.render($plot_area[0], plot_conf, dim, group);\n",
        "                            (function(proc_filter, plot_area, conf){\n",
        "                                plot\n",
        "                                    .width(plot_conf.width).height(layer_h)\n",
        "                                    .on('filtered',function(chart,filter){\n",
        "                                        dc.events.trigger(function() {\n",
        "\n",
        "                                            this_obj.update_filter($(plot_area).attr(\"id\"),proc_filter(filter, conf));\n",
        "                                        }, 1000);\n",
        "                                    });\n",
        "                            })(plotting_obj.proc_filter, $plot_area[0], plot_conf);\n",
        "                            this.charts.push(plot);\n",
        "                        }\n",
        "                    }\n",
        "                    dc.renderAll(this.render_group);\n",
        "                },\n",
        "\n",
        "                update_filter:function(plot_id, filter){\n",
        "                    dc.redrawAll(this.render_group);\n",
        "                    this.filters[plot_id] = filter;\n",
        "\n",
        "                    var filters_deduped = [];\n",
        "                    for( var i in this.filters){\n",
        "                        filters_deduped = filters_deduped.concat(this.filters[i]);\n",
        "                    }\n",
        "                    this.model.set(\"filters\",JSON.stringify(filters_deduped));\n",
        "                    this.touch();\n",
        "                }\n",
        "\n",
        "            });\n",
        "\n",
        "            // Register the DashboardView with the widget manager.\n",
        "            WidgetManager.register_widget_view('DashboardView', DashboardView);\n",
        "});"
       ],
       "metadata": {},
       "output_type": "display_data",
       "text": [
        "<IPython.core.display.Javascript at 0x1082d7350>"
       ]
      }
     ],
     "prompt_number": 1
    },
    {
     "cell_type": "code",
     "collapsed": false,
     "input": [
      "data = pd.read_csv(\"http://dc-js.github.io/dc.js/ndx.csv\")"
     ],
     "language": "python",
     "metadata": {},
     "outputs": [],
     "prompt_number": 2
    },
    {
     "cell_type": "markdown",
     "metadata": {},
     "source": [
      "Here we create a simple dashboard we use python to add some fields, but there are some fields which are easier to compute client side, so we use the preproc function."
     ]
    },
    {
     "cell_type": "code",
     "collapsed": false,
     "input": [
      "data[\"gl\"] = [\"Gain\" if x > 0 else \"Loss\" for x in (data.close-data.open)]\n",
      "data[\"year\"] = [int(x.split('/')[2]) for x in data.date]\n",
      "data[\"quarter\"] = [(int(x.split('/')[0])-1)/3+1 for x in data.date]"
     ],
     "language": "python",
     "metadata": {},
     "outputs": [],
     "prompt_number": 3
    },
    {
     "cell_type": "code",
     "collapsed": false,
     "input": [
      "dashboard = Dashboard(df=data, layout=\"\"\"[\n",
      "    {\"type\":\"layer\", \"height\":200},\n",
      "    {\"type\":\"pie_chart\",\"x\":\"gl\",\"width\":\"200\"},\n",
      "    {\"type\":\"pie_chart\",\"x\":\"quarter\",\"width\":\"300\"},\n",
      "    {\"type\":\"layer\", \"height\":250},\n",
      "    {\"type\":\"scatter\",\"x\":\"dd\",\"y\":\"close\",\"width\":\"1000\"}]\n",
      "    \"\"\",\n",
      "    preproc = \"\"\"\n",
      "    (function(data) {\n",
      "        var dateFormat = d3.time.format(\"%m/%d/%Y\");\n",
      "        var numberFormat = d3.format(\".2f\");\n",
      "\n",
      "        data.forEach(function (d) {\n",
      "            d.dd = dateFormat.parse(d.date);\n",
      "            d.month = d3.time.month(d.dd); // pre-calculate month for better performance\n",
      "            d.close = +d.close; // coerce to number\n",
      "            d.open = +d.open;\n",
      "        });\n",
      "        return data;\n",
      "    })\n",
      "    \"\"\")\n",
      "dashboard.show()"
     ],
     "language": "python",
     "metadata": {},
     "outputs": [],
     "prompt_number": 4
    },
    {
     "cell_type": "markdown",
     "metadata": {},
     "source": [
      "This dashboard is really slow because there is too much data, by using a filter_callback function, we can limit it to only send a sample of the data to the client at a time.  \n",
      "\n",
      "Since we need to be able to apply the filter in python, we must add the timestamp field in python rather than in the preproc."
     ]
    },
    {
     "cell_type": "code",
     "collapsed": false,
     "input": [
      "import time\n",
      "data[\"TimeStamp\"] = [time.mktime(time.strptime(x, \"%m/%d/%Y\")) for x in data[\"date\"]]"
     ],
     "language": "python",
     "metadata": {},
     "outputs": [],
     "prompt_number": 4
    },
    {
     "cell_type": "markdown",
     "metadata": {},
     "source": [
      "This will use a single data frame (df) as the backing data but only send $n$ elements which match the currently applied filters.  There is currently a bug in that you cannot back out of pie chart filters.  We need to make this function much more robust."
     ]
    },
    {
     "cell_type": "code",
     "collapsed": false,
     "input": [
      "import numpy as np\n",
      "def fixed(n,df):\n",
      "    def actor(db):\n",
      "        print(\"Called\")\n",
      "        filt = db.get_filters()\n",
      "        df_filt = df[filt(df)]\n",
      "        if df_filt.shape[0] > n:\n",
      "            df_samp = df.irow(np.random.choice(df_filt.index.values, n, replace=False))\n",
      "        else:\n",
      "            df_samp = df_filt\n",
      "        print(df_samp.shape)\n",
      "        db.set_data(df_samp)\n",
      "    return actor\n"
     ],
     "language": "python",
     "metadata": {},
     "outputs": [],
     "prompt_number": 5
    },
    {
     "cell_type": "code",
     "collapsed": false,
     "input": [
      "dashboard_2 = Dashboard(layout=\"\"\"[\n",
      "    {\"type\":\"layer\", \"height\":200},\n",
      "    {\"type\":\"pie_chart\",\"x\":\"gl\",\"width\":\"200\"},\n",
      "    {\"type\":\"pie_chart\",\"x\":\"quarter\",\"width\":\"300\"},\n",
      "    {\"type\":\"layer\", \"height\":250},\n",
      "    {\"type\":\"scatter\",\"x\":\"TimeStamp\",\"y\":\"close\",\"width\":\"1000\"}]\n",
      "    \"\"\",\n",
      "    filter_callback=fixed(500,data))\n",
      "dashboard_2.show()"
     ],
     "language": "python",
     "metadata": {},
     "outputs": [
      {
       "output_type": "stream",
       "stream": "stdout",
       "text": [
        "Called\n",
        "(500, 11)\n"
       ]
      },
      {
       "output_type": "stream",
       "stream": "stdout",
       "text": [
        "Called\n",
        "(500, 11)"
       ]
      },
      {
       "output_type": "stream",
       "stream": "stdout",
       "text": [
        "\n"
       ]
      },
      {
       "output_type": "stream",
       "stream": "stdout",
       "text": [
        "Called\n",
        "(500, 11)\n"
       ]
      }
     ],
     "prompt_number": 6
    },
    {
     "cell_type": "markdown",
     "metadata": {},
     "source": [
      "There is a display bug in which the filter box doesn't move after the axises move.  Unsure how to fix this still.\n",
      "\n",
      "Here we can use the filter functions to extract out the filtered data frame even though get_filtered_df fails to work right."
     ]
    },
    {
     "cell_type": "code",
     "collapsed": false,
     "input": [
      "data[dashboard_2.get_filters()(data)].shape"
     ],
     "language": "python",
     "metadata": {},
     "outputs": [
      {
       "metadata": {},
       "output_type": "pyout",
       "prompt_number": 12,
       "text": [
        "(1013, 11)"
       ]
      }
     ],
     "prompt_number": 12
    },
    {
     "cell_type": "code",
     "collapsed": false,
     "input": [
      "dashboard_2.get_filtered_df().shape\n",
      "#only 500 rows since the dashboard only knows about the data provided by the callback"
     ],
     "language": "python",
     "metadata": {},
     "outputs": [
      {
       "metadata": {},
       "output_type": "pyout",
       "prompt_number": 15,
       "text": [
        "(500, 11)"
       ]
      }
     ],
     "prompt_number": 15
    },
    {
     "cell_type": "code",
     "collapsed": false,
     "input": [],
     "language": "python",
     "metadata": {},
     "outputs": []
    }
   ],
   "metadata": {}
  }
 ]
}