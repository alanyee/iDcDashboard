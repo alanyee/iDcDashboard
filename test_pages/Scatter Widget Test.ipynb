{
 "metadata": {
  "name": "",
  "signature": "sha256:a85c47590b4c62744396fd00096d2be15364d3dc58994e670558df697fa648a6"
 },
 "nbformat": 3,
 "nbformat_minor": 0,
 "worksheets": [
  {
   "cells": [
    {
     "cell_type": "code",
     "collapsed": false,
     "input": [
      "from __future__ import print_function # For py 2.7 compat\n",
      "\n",
      "from IPython.html import widgets # Widget definitions\n",
      "from IPython.display import display # Used to display widgets in the notebook\n",
      "from IPython.utils.traitlets import Unicode # Used to declare attributes of our widget\n"
     ],
     "language": "python",
     "metadata": {},
     "outputs": [],
     "prompt_number": 1
    },
    {
     "cell_type": "code",
     "collapsed": false,
     "input": [
      "%%html\n",
      "<link rel=\"stylesheet\" type=\"text/css\" href=\"/static/custom/dc.css\">"
     ],
     "language": "python",
     "metadata": {},
     "outputs": [
      {
       "html": [
        "<link rel=\"stylesheet\" type=\"text/css\" href=\"/static/custom/dc.css\">"
       ],
       "metadata": {},
       "output_type": "display_data",
       "text": [
        "<IPython.core.display.HTML at 0x1092cb0d0>"
       ]
      }
     ],
     "prompt_number": 28
    },
    {
     "cell_type": "code",
     "collapsed": false,
     "input": [
      "class DCScatterTableWidget(widgets.DOMWidget):\n",
      "    _view_name = Unicode('DCScatterPlotView', sync=True)\n",
      "    value = Unicode(sync=True)\n"
     ],
     "language": "python",
     "metadata": {},
     "outputs": [],
     "prompt_number": 2
    },
    {
     "cell_type": "code",
     "collapsed": false,
     "input": [
      "%%javascript\n",
      "var dc_scatter_id = 0;\n",
      "var dc = require('/static/custom/dc.js');\n",
      "\n",
      "require([\"widgets/js/widget\"], function(WidgetManager){    \n",
      "    var DCScatterPlotView = IPython.DOMWidgetView.extend({\n",
      "        render: function(){                \n",
      "            this.render_group = 'dc_scatter_' + (dc_scatter_id++);\n",
      "            this.$table = $('<div />')\n",
      "                .attr('id', this.render_group + \"_0\")\n",
      "                .appendTo(this.$el);\n",
      "            // Create the Handsontable table.\n",
      "            this.crossfilter = crossfilter([{x: 200, y: 300},{x:100,y:400}]);\n",
      "            this.dimension   = this.crossfilter.dimension( function(d){return [d.x, d.y];});\n",
      "            this.group       = this.dimension.group();\n",
      "            this.plot = dc.scatterPlot(this.$table[0], this.render_group)\n",
      "            this.plot\n",
      "                .width(400).height(400)\n",
      "                .yAxisLabel(\"Y Axis\")\n",
      "                .xAxisLabel(\"X Axis\")\n",
      "                .x(d3.scale.linear().domain([100,900]))\n",
      "                .y(d3.scale.linear().domain([100,900]))\n",
      "                .dimension(this.dimension)\n",
      "                .group(this.group)\n",
      "        },\n",
      "        \n",
      "        update: function() {\n",
      "            var data = $.parseJSON(this.model.get('value'));\n",
      "            this.crossfilter.add(data)            \n",
      "            dc.renderAll(this.render_group)\n",
      "\n",
      "            // Don't touch this...\n",
      "            return DCScatterPlotView.__super__.update.apply(this);\n",
      "        },\n",
      "        \n",
      "    });\n",
      "    \n",
      "    // Register the HandsonTableView with the widget manager.\n",
      "    WidgetManager.register_widget_view('DCScatterPlotView', DCScatterPlotView);\n",
      "});\n"
     ],
     "language": "python",
     "metadata": {},
     "outputs": [
      {
       "javascript": [
        "var dc_scatter_id = 0;\n",
        "var dc = require('/static/custom/dc.js');\n",
        "\n",
        "require([\"widgets/js/widget\"], function(WidgetManager){    \n",
        "    var DCScatterPlotView = IPython.DOMWidgetView.extend({\n",
        "        render: function(){                \n",
        "            this.render_group = 'dc_scatter_' + (dc_scatter_id++);\n",
        "            this.$table = $('<div />')\n",
        "                .attr('id', this.render_group + \"_0\")\n",
        "                .appendTo(this.$el);\n",
        "            // Create the Handsontable table.\n",
        "            this.crossfilter = crossfilter([{x: 200, y: 300},{x:100,y:400}]);\n",
        "            this.dimension   = this.crossfilter.dimension( function(d){return [d.x, d.y];});\n",
        "            this.group       = this.dimension.group();\n",
        "            this.plot = dc.scatterPlot(this.$table[0], this.render_group)\n",
        "            this.plot\n",
        "                .width(400).height(400)\n",
        "                .yAxisLabel(\"Y Axis\")\n",
        "                .xAxisLabel(\"X Axis\")\n",
        "                .x(d3.scale.linear().domain([100,900]))\n",
        "                .y(d3.scale.linear().domain([100,900]))\n",
        "                .dimension(this.dimension)\n",
        "                .group(this.group)\n",
        "        },\n",
        "        \n",
        "        update: function() {\n",
        "            var data = $.parseJSON(this.model.get('value'));\n",
        "            this.crossfilter.add(data)            \n",
        "            dc.renderAll(this.render_group)\n",
        "\n",
        "            // Don't touch this...\n",
        "            return DCScatterPlotView.__super__.update.apply(this);\n",
        "        },\n",
        "        \n",
        "    });\n",
        "    \n",
        "    // Register the HandsonTableView with the widget manager.\n",
        "    WidgetManager.register_widget_view('DCScatterPlotView', DCScatterPlotView);\n",
        "});"
       ],
       "metadata": {},
       "output_type": "display_data",
       "text": [
        "<IPython.core.display.Javascript at 0x1092da450>"
       ]
      }
     ],
     "prompt_number": 23
    },
    {
     "cell_type": "code",
     "collapsed": false,
     "input": [
      "import StringIO\n",
      "import numpy as np\n",
      "import pandas as pd\n",
      "\n",
      "class DCScatterDataFrame(object):\n",
      "    def __init__(self, df, xcol, ycol):\n",
      "        self._df = df\n",
      "        self._xcol = xcol\n",
      "        self._ycol = ycol\n",
      "        self._widget = DCScatterTableWidget()\n",
      "        self._widget.on_displayed(self._on_displayed)\n",
      "        \n",
      "    def _on_displayed(self, e):\n",
      "        # DataFrame ==> Widget (upon initialization only)\n",
      "        json = pd.DataFrame({\n",
      "            \"x\":self._df.icol(self._xcol),\n",
      "            \"y\":self._df.icol(self._ycol)\n",
      "        }).to_json(orient=\"records\")\n",
      "        self._widget.value = json\n",
      "        \n",
      "    def show(self):\n",
      "        display(self._widget)\n"
     ],
     "language": "python",
     "metadata": {},
     "outputs": [],
     "prompt_number": 24
    },
    {
     "cell_type": "code",
     "collapsed": false,
     "input": [
      "data = np.random.randint(size=(100, 5), low=100, high=900)\n",
      "df = pd.DataFrame(data)\n"
     ],
     "language": "python",
     "metadata": {},
     "outputs": [],
     "prompt_number": 32
    },
    {
     "cell_type": "code",
     "collapsed": false,
     "input": [
      "ht = DCScatterDataFrame(df,\"1\",\"2\")\n",
      "ht.show()\n"
     ],
     "language": "python",
     "metadata": {},
     "outputs": [],
     "prompt_number": 33
    },
    {
     "cell_type": "code",
     "collapsed": false,
     "input": [],
     "language": "python",
     "metadata": {},
     "outputs": [],
     "prompt_number": 38
    },
    {
     "cell_type": "code",
     "collapsed": false,
     "input": [],
     "language": "python",
     "metadata": {},
     "outputs": []
    }
   ],
   "metadata": {}
  }
 ]
}