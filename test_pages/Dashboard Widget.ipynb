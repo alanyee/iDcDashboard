{
 "metadata": {
  "name": "",
  "signature": "sha256:0ae020b634759fdddf8707bc24ccd493203194f1577a3e6df2dc82ab8757d0ed"
 },
 "nbformat": 3,
 "nbformat_minor": 0,
 "worksheets": [
  {
   "cells": [
    {
     "cell_type": "code",
     "collapsed": false,
     "input": [
      "from __future__ import print_function # For py 2.7 compat\n",
      "\n",
      "from IPython.html import widgets # Widget definitions\n",
      "from IPython.display import display # Used to display widgets in the notebook\n",
      "from IPython.utils.traitlets import Unicode # Used to declare attributes of our widget\n"
     ],
     "language": "python",
     "metadata": {},
     "outputs": [],
     "prompt_number": 1
    },
    {
     "cell_type": "code",
     "collapsed": false,
     "input": [
      "%%html\n",
      "<link rel=\"stylesheet\" type=\"text/css\" href=\"/static/custom/dc.css\">\n",
      "\n",
      "<style>\n",
      "    .document{\n",
      "        padding: 5px;\n",
      "        margin:  5px;\n",
      "        width: 100%;\n",
      "        clear:both;\n",
      "    }\n",
      "    .layer{\n",
      "        padding: 5px;\n",
      "        margin:  5px;\n",
      "        width: 100%;\n",
      "        clear:both;\n",
      "    }\n",
      "</style>\n"
     ],
     "language": "python",
     "metadata": {},
     "outputs": [
      {
       "html": [
        "<link rel=\"stylesheet\" type=\"text/css\" href=\"/static/custom/dc.css\">\n",
        "\n",
        "<style>\n",
        "    .document{\n",
        "        padding: 5px;\n",
        "        margin:  5px;\n",
        "        width: 100%;\n",
        "        clear:both;\n",
        "    }\n",
        "    .layer{\n",
        "        padding: 5px;\n",
        "        margin:  5px;\n",
        "        width: 100%;\n",
        "        clear:both;\n",
        "    }\n",
        "</style>"
       ],
       "metadata": {},
       "output_type": "display_data",
       "text": [
        "<IPython.core.display.HTML at 0x105018550>"
       ]
      }
     ],
     "prompt_number": 171
    },
    {
     "cell_type": "code",
     "collapsed": false,
     "input": [
      "class DashboardWidget(widgets.DOMWidget):\n",
      "    _view_name = Unicode('DashboardView', sync=True)\n",
      "    _df     = Unicode(sync=True)\n",
      "    _plots  = Unicode(sync=True)\n"
     ],
     "language": "python",
     "metadata": {},
     "outputs": [],
     "prompt_number": 5
    },
    {
     "cell_type": "code",
     "collapsed": false,
     "input": [
      "%%javascript\n",
      "var dashboard_id = 0;\n",
      "require('/static/custom/crossfilter.js');\n",
      "var dc = require('/static/custom/dc.js');\n",
      "\n",
      "require([\"widgets/js/widget\"], function(WidgetManager){    \n",
      "    var DashboardView = IPython.DOMWidgetView.extend({\n",
      "        render: function(){\n",
      "            var render_group  = 'dashboard_' + (dashboard_id++);\n",
      "            this.render_group = render_group;\n",
      "            \n",
      "            var $root = $('<div />')\n",
      "                .attr('class', \"document\")\n",
      "                .attr('id', this.render_group + \"_0\")\n",
      "                .appendTo(this.$el);\n",
      "            this.$root = $root;\n",
      "            \n",
      "            var data  = $.parseJSON(this.model.get('_df'));\n",
      "            var plots = $.parseJSON(this.model.get('_plots'));\n",
      "            \n",
      "            var cf  = crossfilter(data);\n",
      "            this.cf = cf;\n",
      "            var $layer = null;\n",
      "            var layer_h = null;\n",
      "\n",
      "            for(var i in plots){\n",
      "                var plot_conf = plots[i];\n",
      "                if(plot_conf.type==\"scatter\"){\n",
      "                    var $plot = $('<div />').attr('id', render_group + \"_\" + i).appendTo($layer);\n",
      "                    var xAxis = plot_conf.x;\n",
      "                    var yAxis = plot_conf.y;\n",
      "\n",
      "                    var dim_f = function(d) { return  eval(\"[d.\" + xAxis +\" , d.\" + yAxis + \"]\");};\n",
      "                    var dim   = cf.dimension(dim_f);\n",
      "                    var dim_min = eval(\"dim.bottom(1)[0].\" + xAxis) * 0.9;\n",
      "                    var dim_max = eval(\"dim.top(1)[0].\" + xAxis) * 1.1;\n",
      "                    var grp   = dim.group();\n",
      "                    var plot  = dc.scatterPlot($plot[0], render_group);\n",
      "                    plot\n",
      "                        .width(plot_conf.width).height(layer_h)\n",
      "                        .dimension(dim).group(grp)\n",
      "                        .xAxisLabel(plot_conf.x).yAxisLabel(plot_conf.y)\n",
      "                        .x(d3.scale.linear().domain([dim_min,dim_max]))\n",
      "                }else{\n",
      "                    $layer = $('<div />').attr('class','layer').appendTo($root);\n",
      "                    layer_h = plot_conf.height;\n",
      "                }\n",
      "            }\n",
      "            dc.renderAll(this.render_group)\n",
      "        },\n",
      "        \n",
      "    });\n",
      "    \n",
      "    // Register the HandsonTableView with the widget manager.\n",
      "    WidgetManager.register_widget_view('DashboardView', DashboardView);\n",
      "});\n"
     ],
     "language": "python",
     "metadata": {},
     "outputs": [
      {
       "javascript": [
        "var dashboard_id = 0;\n",
        "require('/static/custom/crossfilter.js');\n",
        "var dc = require('/static/custom/dc.js');\n",
        "\n",
        "require([\"widgets/js/widget\"], function(WidgetManager){    \n",
        "    var DashboardView = IPython.DOMWidgetView.extend({\n",
        "        render: function(){\n",
        "            var render_group  = 'dashboard_' + (dashboard_id++);\n",
        "            this.render_group = render_group;\n",
        "            \n",
        "            var $root = $('<div />')\n",
        "                .attr('class', \"document\")\n",
        "                .attr('id', this.render_group + \"_0\")\n",
        "                .appendTo(this.$el);\n",
        "            this.$root = $root;\n",
        "            \n",
        "            var data  = $.parseJSON(this.model.get('_df'));\n",
        "            var plots = $.parseJSON(this.model.get('_plots'));\n",
        "            \n",
        "            var cf  = crossfilter(data);\n",
        "            this.cf = cf;\n",
        "            var $layer = null;\n",
        "            var layer_h = null;\n",
        "\n",
        "            for(var i in plots){\n",
        "                var plot_conf = plots[i];\n",
        "                if(plot_conf.type==\"scatter\"){\n",
        "                    var $plot = $('<div />').attr('id', render_group + \"_\" + i).appendTo($layer);\n",
        "                    var xAxis = plot_conf.x;\n",
        "                    var yAxis = plot_conf.y;\n",
        "\n",
        "                    var dim_f = function(d) { return  eval(\"[d.\" + xAxis +\" , d.\" + yAxis + \"]\");};\n",
        "                    var dim   = cf.dimension(dim_f);\n",
        "                    var dim_min = eval(\"dim.bottom(1)[0].\" + xAxis) * 0.9;\n",
        "                    var dim_max = eval(\"dim.top(1)[0].\" + xAxis) * 1.1;\n",
        "                    var grp   = dim.group();\n",
        "                    var plot  = dc.scatterPlot($plot[0], render_group);\n",
        "                    plot\n",
        "                        .width(plot_conf.width).height(layer_h)\n",
        "                        .dimension(dim).group(grp)\n",
        "                        .xAxisLabel(plot_conf.x).yAxisLabel(plot_conf.y)\n",
        "                        .x(d3.scale.linear().domain([dim_min,dim_max]))\n",
        "                }else{\n",
        "                    $layer = $('<div />').attr('class','layer').appendTo($root);\n",
        "                    layer_h = plot_conf.height;\n",
        "                }\n",
        "            }\n",
        "            dc.renderAll(this.render_group)\n",
        "        },\n",
        "        \n",
        "    });\n",
        "    \n",
        "    // Register the HandsonTableView with the widget manager.\n",
        "    WidgetManager.register_widget_view('DashboardView', DashboardView);\n",
        "});"
       ],
       "metadata": {},
       "output_type": "display_data",
       "text": [
        "<IPython.core.display.Javascript at 0x1050c0b10>"
       ]
      }
     ],
     "prompt_number": 199
    },
    {
     "cell_type": "code",
     "collapsed": false,
     "input": [
      "class DashboardDataFrame(object):\n",
      "    def __init__(self, df, plots):\n",
      "        self._widget        = DashboardWidget()\n",
      "        self._widget._df    = df.to_json(orient=\"records\")\n",
      "        self._widget._plots = plots\n",
      "        \n",
      "    def show(self):\n",
      "        display(self._widget)\n"
     ],
     "language": "python",
     "metadata": {},
     "outputs": [],
     "prompt_number": 200
    },
    {
     "cell_type": "code",
     "collapsed": false,
     "input": [
      "import numpy as np\n",
      "import pandas as pd\n",
      "data = np.random.randint(size=(100, 5), low=100, high=900)\n",
      "df = pd.DataFrame(data)\n",
      "df.columns=[\"field_\"+str(x) for x in df.columns]"
     ],
     "language": "python",
     "metadata": {},
     "outputs": [],
     "prompt_number": 201
    },
    {
     "cell_type": "code",
     "collapsed": false,
     "input": [
      "dashboard = DashboardDataFrame(df, \"\"\"[\n",
      "    {\"type\":\"layer\", \"height\":300},\n",
      "    {\"type\":\"scatter\",\"x\":\"field_1\",\"y\":\"field_2\",\"width\":\"500\"},\n",
      "    {\"type\":\"scatter\",\"x\":\"field_1\",\"y\":\"field_3\",\"width\":\"500\"},\n",
      "    {\"type\":\"layer\", \"height\":250},\n",
      "    {\"type\":\"scatter\",\"x\":\"field_2\",\"y\":\"field_3\",\"width\":\"1000\"}\n",
      "]\"\"\")\n",
      "dashboard.show()"
     ],
     "language": "python",
     "metadata": {},
     "outputs": [],
     "prompt_number": 205
    },
    {
     "cell_type": "code",
     "collapsed": false,
     "input": [],
     "language": "python",
     "metadata": {},
     "outputs": [],
     "prompt_number": 46
    },
    {
     "cell_type": "code",
     "collapsed": false,
     "input": [],
     "language": "python",
     "metadata": {},
     "outputs": []
    }
   ],
   "metadata": {}
  }
 ]
}