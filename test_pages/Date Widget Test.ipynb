{
 "metadata": {
  "name": "",
  "signature": "sha256:06ad014b052180915dedae520044d0ec03bef81722931bfd8061f49d4b152b64"
 },
 "nbformat": 3,
 "nbformat_minor": 0,
 "worksheets": [
  {
   "cells": [
    {
     "cell_type": "markdown",
     "metadata": {},
     "source": [
      "This is a test widget taken from http://nbviewer.ipython.org/github/ipython/ipython/blob/2.x/examples/Interactive%20Widgets/Custom%20Widgets.ipynb\n",
      "\n",
      "It was used to figure out how to write widgets within ipython notebook."
     ]
    },
    {
     "cell_type": "code",
     "collapsed": false,
     "input": [
      "from __future__ import print_function # For py 2.7 compat\n",
      "\n",
      "from IPython.html import widgets # Widget definitions\n",
      "from IPython.display import display # Used to display widgets in the notebook\n",
      "from IPython.utils.traitlets import Unicode # Used to declare attributes of our widget\n",
      "from dateutil import parser"
     ],
     "language": "python",
     "metadata": {},
     "outputs": [],
     "prompt_number": 32
    },
    {
     "cell_type": "code",
     "collapsed": false,
     "input": [
      "class DateWidget(widgets.DOMWidget):\n",
      "    _view_name = Unicode('DatePickerView', sync=True)\n",
      "    value = Unicode(sync=True)\n",
      "    description = Unicode(sync=True)\n",
      "    \n",
      "    def __init__(self, **kwargs):\n",
      "        super(DateWidget, self).__init__(**kwargs)\n",
      "        \n",
      "        self.validate = widgets.CallbackDispatcher()\n",
      "    \n",
      "    # This function automatically gets called by the traitlet machinery when\n",
      "    # value is modified because of this function's name.\n",
      "    def _value_changed(self, name, old_value, new_value):\n",
      "        \n",
      "        parsed_date = parser.parse(new_value)\n",
      "        parsed_date_string = parsed_date.strftime(\"%Y-%m-%d\")\n",
      "    \n",
      "        \n",
      "        # Set the parsed date string if the current date string is different.\n",
      "        if old_value != new_value:\n",
      "            valid = self.validate(parsed_date)\n",
      "            if valid in (None, True):\n",
      "                self.value = parsed_date_string\n",
      "            else:\n",
      "                self.value = old_value\n",
      "                self.send_state() # The traitlet event won't fire since the value isn't changing.\n",
      "                                  # We need to force the back-end to send the front-end the state\n",
      "                                  # to make sure that the date control date doesn't change.\n"
     ],
     "language": "python",
     "metadata": {},
     "outputs": [],
     "prompt_number": 33
    },
    {
     "cell_type": "code",
     "collapsed": false,
     "input": [
      "%%javascript\n",
      "\n",
      "require([\"widgets/js/widget\"], function(WidgetManager){\n",
      "    \n",
      "    // Define the DatePickerView\n",
      "    var DatePickerView = IPython.DOMWidgetView.extend({\n",
      "        render: function(){\n",
      "            this.$el.addClass('widget-hbox-single'); /* Apply this class to the widget container to make\n",
      "                                                        it fit with the other built in widgets.*/\n",
      "            // Create a label.\n",
      "            this.$label = $('<div />')\n",
      "                .addClass('widget-hlabel')\n",
      "                .appendTo(this.$el)\n",
      "                .hide(); // Hide the label by default.\n",
      "            \n",
      "            // Create the date picker control.\n",
      "            this.$date = $('<input />')\n",
      "                .attr('type', 'date')\n",
      "                .appendTo(this.$el);\n",
      "        },\n",
      "        \n",
      "        update: function() {\n",
      "            \n",
      "            // Set the value of the date control and then call base.\n",
      "            this.$date.val(this.model.get('value')); // ISO format \"YYYY-MM-DDTHH:mm:ss.sssZ\" is required\n",
      "            \n",
      "            // Hide or show the label depending on the existance of a description.\n",
      "            var description = this.model.get('description');\n",
      "            if (description == undefined || description == '') {\n",
      "                this.$label.hide();\n",
      "            } else {\n",
      "                this.$label.show();\n",
      "                this.$label.text(description);\n",
      "            }\n",
      "            \n",
      "            return DatePickerView.__super__.update.apply(this);\n",
      "        },\n",
      "        \n",
      "        // Tell Backbone to listen to the change event of input controls (which the HTML date picker is)\n",
      "        events: {\"change\": \"handle_date_change\"},\n",
      "        \n",
      "        // Callback for when the date is changed.\n",
      "        handle_date_change: function(event) {\n",
      "            this.model.set('value', this.$date.val());\n",
      "            this.touch();\n",
      "        },\n",
      "    });\n",
      "    \n",
      "    // Register the DatePickerView with the widget manager.\n",
      "    WidgetManager.register_widget_view('DatePickerView', DatePickerView);\n",
      "});\n"
     ],
     "language": "python",
     "metadata": {},
     "outputs": [
      {
       "javascript": [
        "\n",
        "require([\"widgets/js/widget\"], function(WidgetManager){\n",
        "    \n",
        "    // Define the DatePickerView\n",
        "    var DatePickerView = IPython.DOMWidgetView.extend({\n",
        "        render: function(){\n",
        "            this.$el.addClass('widget-hbox-single'); /* Apply this class to the widget container to make\n",
        "                                                        it fit with the other built in widgets.*/\n",
        "            // Create a label.\n",
        "            this.$label = $('<div />')\n",
        "                .addClass('widget-hlabel')\n",
        "                .appendTo(this.$el)\n",
        "                .hide(); // Hide the label by default.\n",
        "            \n",
        "            // Create the date picker control.\n",
        "            this.$date = $('<input />')\n",
        "                .attr('type', 'date')\n",
        "                .appendTo(this.$el);\n",
        "        },\n",
        "        \n",
        "        update: function() {\n",
        "            \n",
        "            // Set the value of the date control and then call base.\n",
        "            this.$date.val(this.model.get('value')); // ISO format \"YYYY-MM-DDTHH:mm:ss.sssZ\" is required\n",
        "            \n",
        "            // Hide or show the label depending on the existance of a description.\n",
        "            var description = this.model.get('description');\n",
        "            if (description == undefined || description == '') {\n",
        "                this.$label.hide();\n",
        "            } else {\n",
        "                this.$label.show();\n",
        "                this.$label.text(description);\n",
        "            }\n",
        "            \n",
        "            return DatePickerView.__super__.update.apply(this);\n",
        "        },\n",
        "        \n",
        "        // Tell Backbone to listen to the change event of input controls (which the HTML date picker is)\n",
        "        events: {\"change\": \"handle_date_change\"},\n",
        "        \n",
        "        // Callback for when the date is changed.\n",
        "        handle_date_change: function(event) {\n",
        "            this.model.set('value', this.$date.val());\n",
        "            this.touch();\n",
        "        },\n",
        "    });\n",
        "    \n",
        "    // Register the DatePickerView with the widget manager.\n",
        "    WidgetManager.register_widget_view('DatePickerView', DatePickerView);\n",
        "});"
       ],
       "metadata": {},
       "output_type": "display_data",
       "text": [
        "<IPython.core.display.Javascript at 0x10dbf1dd0>"
       ]
      }
     ],
     "prompt_number": 34
    },
    {
     "cell_type": "code",
     "collapsed": false,
     "input": [
      "# Add some additional widgets for aesthetic purpose\n",
      "display(widgets.TextWidget(description=\"First:\"))\n",
      "display(widgets.TextWidget(description=\"Last:\"))\n",
      "\n",
      "my_widget = DateWidget()\n",
      "display(my_widget)\n",
      "my_widget.description=\"DOB:\"\n"
     ],
     "language": "python",
     "metadata": {},
     "outputs": [],
     "prompt_number": 35
    },
    {
     "cell_type": "code",
     "collapsed": false,
     "input": [
      "my_widget.value"
     ],
     "language": "python",
     "metadata": {},
     "outputs": [
      {
       "metadata": {},
       "output_type": "pyout",
       "prompt_number": 36,
       "text": [
        "u'2014-09-05'"
       ]
      }
     ],
     "prompt_number": 36
    },
    {
     "cell_type": "code",
     "collapsed": false,
     "input": [
      "my_widget = DateWidget()\n",
      "display(my_widget)\n",
      "\n",
      "def require_2014(date):\n",
      "    return not date is None and date.year == 2014\n",
      "my_widget.validate.register_callback(require_2014)\n"
     ],
     "language": "python",
     "metadata": {},
     "outputs": [],
     "prompt_number": 37
    },
    {
     "cell_type": "code",
     "collapsed": false,
     "input": [
      "my_widget.value"
     ],
     "language": "python",
     "metadata": {},
     "outputs": [
      {
       "metadata": {},
       "output_type": "pyout",
       "prompt_number": 38,
       "text": [
        "u'2014-09-19'"
       ]
      }
     ],
     "prompt_number": 38
    },
    {
     "cell_type": "code",
     "collapsed": false,
     "input": [
      "my_widget.value=u'2014-01-01'"
     ],
     "language": "python",
     "metadata": {},
     "outputs": [],
     "prompt_number": 39
    },
    {
     "cell_type": "code",
     "collapsed": false,
     "input": [],
     "language": "python",
     "metadata": {},
     "outputs": []
    }
   ],
   "metadata": {}
  }
 ]
}